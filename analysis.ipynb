{
 "cells": [
  {
   "cell_type": "code",
   "execution_count": null,
   "id": "a659ac7a-01db-443d-95e8-f1ded071c7d2",
   "metadata": {},
   "outputs": [],
   "source": [
    "import pandas as pd\n",
    "import config"
   ]
  },
  {
   "cell_type": "code",
   "execution_count": null,
   "id": "5e5c6a5b-3f0f-43e8-a016-9c3ed6288af6",
   "metadata": {},
   "outputs": [],
   "source": [
    "pd.set_option('display.max_rows', 500)"
   ]
  },
  {
   "cell_type": "code",
   "execution_count": null,
   "id": "f27d9846-0117-465c-8312-b491a82a0107",
   "metadata": {},
   "outputs": [],
   "source": [
    "df = pd.read_csv('processed/2023.csv')\n",
    "df = df[~df['Empty Response']].replace(\"-\", pd.NA)"
   ]
  },
  {
   "cell_type": "code",
   "execution_count": null,
   "id": "b9ed5217-fefb-4368-ad51-6835183bafa1",
   "metadata": {},
   "outputs": [],
   "source": [
    "df.head()"
   ]
  },
  {
   "cell_type": "code",
   "execution_count": null,
   "id": "0a2c2c02-0e13-4f0c-880c-3234a073818d",
   "metadata": {},
   "outputs": [],
   "source": [
    "weight_by_parents = False\n",
    "filters = {\n",
    "    \"Year 1 Families\": pd.to_numeric(df[\"Years at GVCA\"]) == 1,\n",
    "    \"Not Year 1 Families\": pd.to_numeric(df[\"Years at GVCA\"]) > 1,\n",
    "    \"Year 3 or Less Families\": pd.to_numeric(df[\"Years at GVCA\"]) <= 3,\n",
    "    \"Year 4 or More Families\": pd.to_numeric(df[\"Years at GVCA\"]) > 3,\n",
    "    \"Minority\": df[\"Minority\"] == \"Yes\",\n",
    "    \"Not Minority\": df[\"Minority\"] != \"Yes\",\n",
    "    \"Support\": df[\"IEP, 504, ALP, or Read\"] == \"Yes\",\n",
    "    \"Not Support\": df[\"IEP, 504, ALP, or Read\"] != \"Yes\",\n",
    "}\n",
    "\n",
    "def calculate_question_totals(df):\n",
    "    results = []\n",
    "\n",
    "    for question in config.questions_for_each_school_level:\n",
    "        response_levels = config.question_responses.get(question, [])\n",
    "        \n",
    "        for response in response_levels:\n",
    "            response_data = {\"Question\": question, \"Response\": response}\n",
    "            \n",
    "            schoolwide_counts, schoolwide_total = _calculate_totals(df, question, response, config.levels, weight_by_parents)\n",
    "            response_data.update(_format_counts_and_percentages(\"total\", schoolwide_counts, schoolwide_total, response))\n",
    "            \n",
    "            for level in config.levels:\n",
    "                level_counts, level_total = _calculate_totals(df, question, response, [level], weight_by_parents)\n",
    "                response_data.update(_format_counts_and_percentages(level, level_counts, level_total, response))\n",
    "            \n",
    "            for filter_name, filter_condition in filters.items():\n",
    "                filtered_counts, filtered_total = _calculate_totals(df[filter_condition], question, response, config.levels, weight_by_parents)\n",
    "                response_data.update(_format_counts_and_percentages(filter_name, filtered_counts, filtered_total, response))\n",
    "            \n",
    "            results.append(response_data)\n",
    "    \n",
    "    return pd.DataFrame(results)\n",
    "\n",
    "def _calculate_totals(df, question, response, levels, weight_by_parents):\n",
    "    \"\"\"Helper to calculate counts and totals for given levels.\"\"\"\n",
    "    totals = {}\n",
    "    overall_total = 0\n",
    "\n",
    "    for level in levels:\n",
    "        column_name = f\"({level}) {question}\"\n",
    "        if column_name in df.columns:\n",
    "            filtered_df = df[df[column_name] == response]\n",
    "\n",
    "            if weight_by_parents:\n",
    "                response_sum = filtered_df[\"N Parents Represented\"].astype(float).sum()\n",
    "                level_total = df[~df[column_name].isna()][\"N Parents Represented\"].astype(float).sum()\n",
    "            else:\n",
    "                response_sum = len(filtered_df)\n",
    "                level_total = len(df[column_name].dropna())\n",
    "\n",
    "            totals[response] = totals.get(response, 0) + response_sum\n",
    "            overall_total += level_total\n",
    "\n",
    "    return totals, overall_total\n",
    "\n",
    "def _format_counts_and_percentages(label, counts, total, response):\n",
    "    \"\"\"Helper to format counts and percentages for a given response.\"\"\"\n",
    "    count = counts.get(response, 0)\n",
    "    percentage = (count / total) * 100 if total > 0 else 0\n",
    "    return {f\"N_{label}\": count, f\"%_{label}\": percentage}\n",
    "\n",
    "rolled_up_data = calculate_question_totals(df)\n",
    "# rolled_up_data.to_csv(\"rolled_up_data.csv\", index=False)\n",
    "rolled_up_data"
   ]
  },
  {
   "cell_type": "code",
   "execution_count": null,
   "id": "98d9f88e-88ff-4130-b0d2-b7def2c8bb45",
   "metadata": {},
   "outputs": [],
   "source": []
  },
  {
   "cell_type": "code",
   "execution_count": null,
   "id": "88251653-d099-4afa-9a31-7e898b7053e8",
   "metadata": {},
   "outputs": [],
   "source": []
  }
 ],
 "metadata": {
  "kernelspec": {
   "display_name": "Python 3 (ipykernel)",
   "language": "python",
   "name": "python3"
  },
  "language_info": {
   "codemirror_mode": {
    "name": "ipython",
    "version": 3
   },
   "file_extension": ".py",
   "mimetype": "text/x-python",
   "name": "python",
   "nbconvert_exporter": "python",
   "pygments_lexer": "ipython3",
   "version": "3.10.12"
  }
 },
 "nbformat": 4,
 "nbformat_minor": 5
}
