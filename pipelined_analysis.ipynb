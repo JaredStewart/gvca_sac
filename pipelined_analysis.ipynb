{
 "cells": [
  {
   "cell_type": "code",
   "execution_count": null,
   "id": "35212ec6-a07c-4d4e-8b1a-30ef355fcfb8",
   "metadata": {},
   "outputs": [],
   "source": [
    "import pandas as pd\n",
    "\n",
    "from pipeline import *\n",
    "\n",
    "pd.set_option('display.max_rows', 500)\n",
    "pd.set_option('display.max_columns', 500)\n",
    "pd.set_option('display.width', 1000)"
   ]
  },
  {
   "cell_type": "code",
   "execution_count": null,
   "id": "791cd9f1-a35d-4f89-81f3-d164057c8c90",
   "metadata": {},
   "outputs": [],
   "source": [
    "raw_to_processed(\"test\")"
   ]
  },
  {
   "cell_type": "code",
   "execution_count": null,
   "id": "b4cedbc4-8df8-4e21-9fba-93540bf4427e",
   "metadata": {},
   "outputs": [],
   "source": [
    "years = [\"2023\", \"2024\", \"2025\"]\n",
    "for year in years:\n",
    "    raw_to_processed(year)"
   ]
  },
  {
   "cell_type": "code",
   "execution_count": null,
   "id": "de8b8663-e0a5-427b-b93f-7876ea287f42",
   "metadata": {},
   "outputs": [],
   "source": [
    "weight_by_parents = False\n",
    "year = \"2025\"\n",
    "raw_to_processed(year)\n",
    "df = load_flattened(year)\n",
    "df, average_results = compute_averages_and_weighted_totals(df, weight_by_parents)\n",
    "for key in [\"Overall Average\", \"Grammar Average\", \"Middle Average\", \"High Average\"]:\n",
    "    print(f\"{key}: {average_results[key]:.2f}\")"
   ]
  },
  {
   "cell_type": "code",
   "execution_count": null,
   "id": "1cea022c-5913-4a0a-b42f-71866b65c437",
   "metadata": {},
   "outputs": [],
   "source": [
    "df"
   ]
  },
  {
   "cell_type": "code",
   "execution_count": null,
   "id": "3b3f9464-02f8-4f7c-884e-22d063f199ad",
   "metadata": {},
   "outputs": [],
   "source": [
    "plot_question_trends_across_years(years, savefig=True)"
   ]
  },
  {
   "cell_type": "code",
   "execution_count": null,
   "id": "31899178-ca72-41fa-84c6-b9225155ffee",
   "metadata": {},
   "outputs": [],
   "source": [
    "weight_by_parents = False\n",
    "year = \"2025\"\n",
    "raw_to_processed(year)\n",
    "df = load_flattened(year)\n",
    "rolled_up_data = calculate_question_totals(df, weight_by_parents)\n",
    "plts = plot_individual_question_stacked_bars(year, rolled_up_data, True)"
   ]
  },
  {
   "cell_type": "code",
   "execution_count": null,
   "id": "92193098-882f-464c-818c-d2fa224675f7",
   "metadata": {},
   "outputs": [],
   "source": []
  },
  {
   "cell_type": "code",
   "execution_count": null,
   "id": "a5a855de-5a36-4e49-87fe-202d0f513ab6",
   "metadata": {},
   "outputs": [],
   "source": [
    "for "
   ]
  }
 ],
 "metadata": {
  "kernelspec": {
   "display_name": "Python 3 (ipykernel)",
   "language": "python",
   "name": "python3"
  },
  "language_info": {
   "codemirror_mode": {
    "name": "ipython",
    "version": 3
   },
   "file_extension": ".py",
   "mimetype": "text/x-python",
   "name": "python",
   "nbconvert_exporter": "python",
   "pygments_lexer": "ipython3",
   "version": "3.10.12"
  }
 },
 "nbformat": 4,
 "nbformat_minor": 5
}
